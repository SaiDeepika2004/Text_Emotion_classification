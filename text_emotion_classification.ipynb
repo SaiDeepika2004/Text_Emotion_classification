{
  "nbformat": 4,
  "nbformat_minor": 0,
  "metadata": {
    "colab": {
      "provenance": [],
      "gpuType": "T4",
      "authorship_tag": "ABX9TyPEXOnW88VXjuiZSU11/8o3",
      "include_colab_link": true
    },
    "kernelspec": {
      "name": "python3",
      "display_name": "Python 3"
    },
    "language_info": {
      "name": "python"
    },
    "accelerator": "GPU"
  },
  "cells": [
    {
      "cell_type": "markdown",
      "metadata": {
        "id": "view-in-github",
        "colab_type": "text"
      },
      "source": [
        "<a href=\"https://colab.research.google.com/github/SaiDeepika2004/Text_Emotion_classification/blob/main/text_emotion_classification.ipynb\" target=\"_parent\"><img src=\"https://colab.research.google.com/assets/colab-badge.svg\" alt=\"Open In Colab\"/></a>"
      ]
    },
    {
      "cell_type": "code",
      "execution_count": 1,
      "metadata": {
        "colab": {
          "base_uri": "https://localhost:8080/"
        },
        "id": "h-Ioa6B3BvUZ",
        "outputId": "ceb25649-043e-404c-9da9-76621d9423f0"
      },
      "outputs": [
        {
          "output_type": "stream",
          "name": "stdout",
          "text": [
            "Requirement already satisfied: Tensorflow in /usr/local/lib/python3.10/dist-packages (2.15.0)\n",
            "Collecting sklearn\n",
            "  Downloading sklearn-0.0.post12.tar.gz (2.6 kB)\n",
            "  \u001b[1;31merror\u001b[0m: \u001b[1msubprocess-exited-with-error\u001b[0m\n",
            "  \n",
            "  \u001b[31m×\u001b[0m \u001b[32mpython setup.py egg_info\u001b[0m did not run successfully.\n",
            "  \u001b[31m│\u001b[0m exit code: \u001b[1;36m1\u001b[0m\n",
            "  \u001b[31m╰─>\u001b[0m See above for output.\n",
            "  \n",
            "  \u001b[1;35mnote\u001b[0m: This error originates from a subprocess, and is likely not a problem with pip.\n",
            "  Preparing metadata (setup.py) ... \u001b[?25l\u001b[?25herror\n",
            "\u001b[1;31merror\u001b[0m: \u001b[1mmetadata-generation-failed\u001b[0m\n",
            "\n",
            "\u001b[31m×\u001b[0m Encountered error while generating package metadata.\n",
            "\u001b[31m╰─>\u001b[0m See above for output.\n",
            "\n",
            "\u001b[1;35mnote\u001b[0m: This is an issue with the package mentioned above, not pip.\n",
            "\u001b[1;36mhint\u001b[0m: See above for details.\n"
          ]
        }
      ],
      "source": [
        "!pip install Tensorflow sklearn"
      ]
    },
    {
      "cell_type": "code",
      "source": [
        "import pandas as pd\n",
        "import numpy as np\n",
        "import keras\n",
        "import tensorflow\n",
        "from keras.preprocessing.text import Tokenizer\n",
        "from tensorflow.keras.preprocessing.sequence import pad_sequences\n",
        "from sklearn.preprocessing import LabelEncoder\n",
        "from sklearn.model_selection import train_test_split\n",
        "from keras.models import Sequential\n",
        "from keras.layers import Embedding, Flatten, Dense\n",
        "\n",
        "\n",
        "data = pd.read_csv(\"train.txt\", sep=';')\n",
        "data.columns = [\"Text\", \"Emotions\"]\n",
        "print(data.head())"
      ],
      "metadata": {
        "colab": {
          "base_uri": "https://localhost:8080/"
        },
        "id": "f4vv2PR7CRM-",
        "outputId": "809fac7f-ae58-4146-e69e-f97125cf0191"
      },
      "execution_count": 2,
      "outputs": [
        {
          "output_type": "stream",
          "name": "stdout",
          "text": [
            "                                                Text Emotions\n",
            "0  i can go from feeling so hopeless to so damned...  sadness\n",
            "1   im grabbing a minute to post i feel greedy wrong    anger\n",
            "2  i am ever feeling nostalgic about the fireplac...     love\n",
            "3                               i am feeling grouchy    anger\n",
            "4  ive been feeling a little burdened lately wasn...  sadness\n"
          ]
        }
      ]
    },
    {
      "cell_type": "code",
      "source": [
        "texts = data[\"Text\"].tolist()\n",
        "labels = data[\"Emotions\"].tolist()\n",
        "\n",
        "# Tokenize the text data\n",
        "tokenizer = Tokenizer()\n",
        "tokenizer.fit_on_texts(texts)"
      ],
      "metadata": {
        "id": "jbJKWYliCYvA"
      },
      "execution_count": 3,
      "outputs": []
    },
    {
      "cell_type": "code",
      "source": [
        "sequences = tokenizer.texts_to_sequences(texts)\n",
        "max_length = max([len(seq) for seq in sequences])\n",
        "padded_sequences = pad_sequences(sequences, maxlen=max_length)"
      ],
      "metadata": {
        "id": "P1eEo8M7Cc_j"
      },
      "execution_count": 4,
      "outputs": []
    },
    {
      "cell_type": "code",
      "source": [
        "# Encode the string labels to integers\n",
        "label_encoder = LabelEncoder()\n",
        "labels = label_encoder.fit_transform(labels)"
      ],
      "metadata": {
        "id": "073D2cdbCfYY"
      },
      "execution_count": 5,
      "outputs": []
    },
    {
      "cell_type": "code",
      "source": [
        "# One-hot encode the labels\n",
        "one_hot_labels = keras.utils.to_categorical(labels)"
      ],
      "metadata": {
        "id": "KTFU-6Y6Chby"
      },
      "execution_count": 6,
      "outputs": []
    },
    {
      "cell_type": "code",
      "source": [
        "# Split the data into training and testing sets\n",
        "xtrain, xtest, ytrain, ytest = train_test_split(padded_sequences,\n",
        "                                                one_hot_labels,\n",
        "                                                test_size=0.2)"
      ],
      "metadata": {
        "id": "AAWL7UilCj5i"
      },
      "execution_count": 7,
      "outputs": []
    },
    {
      "cell_type": "code",
      "source": [
        "# Define the model\n",
        "model = Sequential()\n",
        "model.add(Embedding(input_dim=len(tokenizer.word_index) + 1,\n",
        "                    output_dim=128, input_length=max_length))\n",
        "model.add(Flatten())\n",
        "model.add(Dense(units=128, activation=\"relu\"))\n",
        "model.add(Dense(units=len(one_hot_labels[0]), activation=\"softmax\"))\n",
        "\n",
        "model.compile(optimizer=\"adam\", loss=\"categorical_crossentropy\", metrics=[\"accuracy\"])\n",
        "model.fit(xtrain, ytrain, epochs=15, batch_size=32, validation_data=(xtest, ytest))"
      ],
      "metadata": {
        "colab": {
          "base_uri": "https://localhost:8080/"
        },
        "id": "OhvHCAgRCmVp",
        "outputId": "f9e8d02b-e1e4-4a91-c4a8-2968e06d2ee9"
      },
      "execution_count": 9,
      "outputs": [
        {
          "output_type": "stream",
          "name": "stdout",
          "text": [
            "Epoch 1/15\n",
            "400/400 [==============================] - 14s 33ms/step - loss: 1.3430 - accuracy: 0.4876 - val_loss: 0.8233 - val_accuracy: 0.7341\n",
            "Epoch 2/15\n",
            "400/400 [==============================] - 4s 9ms/step - loss: 0.3316 - accuracy: 0.8938 - val_loss: 0.4917 - val_accuracy: 0.8313\n",
            "Epoch 3/15\n",
            "400/400 [==============================] - 3s 9ms/step - loss: 0.0540 - accuracy: 0.9864 - val_loss: 0.5156 - val_accuracy: 0.8419\n",
            "Epoch 4/15\n",
            "400/400 [==============================] - 2s 5ms/step - loss: 0.0248 - accuracy: 0.9943 - val_loss: 0.5539 - val_accuracy: 0.8344\n",
            "Epoch 5/15\n",
            "400/400 [==============================] - 2s 5ms/step - loss: 0.0174 - accuracy: 0.9959 - val_loss: 0.5861 - val_accuracy: 0.8341\n",
            "Epoch 6/15\n",
            "400/400 [==============================] - 2s 5ms/step - loss: 0.0139 - accuracy: 0.9972 - val_loss: 0.6181 - val_accuracy: 0.8291\n",
            "Epoch 7/15\n",
            "400/400 [==============================] - 2s 5ms/step - loss: 0.0124 - accuracy: 0.9973 - val_loss: 0.6396 - val_accuracy: 0.8313\n",
            "Epoch 8/15\n",
            "400/400 [==============================] - 2s 6ms/step - loss: 0.0130 - accuracy: 0.9972 - val_loss: 0.6189 - val_accuracy: 0.8269\n",
            "Epoch 9/15\n",
            "400/400 [==============================] - 2s 5ms/step - loss: 0.0096 - accuracy: 0.9976 - val_loss: 0.6887 - val_accuracy: 0.8288\n",
            "Epoch 10/15\n",
            "400/400 [==============================] - 2s 5ms/step - loss: 0.0096 - accuracy: 0.9973 - val_loss: 0.7895 - val_accuracy: 0.8153\n",
            "Epoch 11/15\n",
            "400/400 [==============================] - 2s 4ms/step - loss: 0.0093 - accuracy: 0.9973 - val_loss: 0.7971 - val_accuracy: 0.8184\n",
            "Epoch 12/15\n",
            "400/400 [==============================] - 2s 5ms/step - loss: 0.0075 - accuracy: 0.9977 - val_loss: 0.7760 - val_accuracy: 0.8228\n",
            "Epoch 13/15\n",
            "400/400 [==============================] - 2s 5ms/step - loss: 0.0075 - accuracy: 0.9979 - val_loss: 0.8089 - val_accuracy: 0.8263\n",
            "Epoch 14/15\n",
            "400/400 [==============================] - 2s 5ms/step - loss: 0.0065 - accuracy: 0.9975 - val_loss: 0.9025 - val_accuracy: 0.8103\n",
            "Epoch 15/15\n",
            "400/400 [==============================] - 2s 4ms/step - loss: 0.0073 - accuracy: 0.9976 - val_loss: 0.8240 - val_accuracy: 0.8178\n"
          ]
        },
        {
          "output_type": "execute_result",
          "data": {
            "text/plain": [
              "<keras.src.callbacks.History at 0x7b6bfa669840>"
            ]
          },
          "metadata": {},
          "execution_count": 9
        }
      ]
    },
    {
      "cell_type": "code",
      "source": [
        "input_text = \"She didn't come today because she lost her dog yestertay!\"\n",
        "\n",
        "# Preprocess the input text\n",
        "input_sequence = tokenizer.texts_to_sequences([input_text])\n",
        "padded_input_sequence = pad_sequences(input_sequence, maxlen=max_length)\n",
        "prediction = model.predict(padded_input_sequence)\n",
        "predicted_label = label_encoder.inverse_transform([np.argmax(prediction[0])])\n",
        "print(predicted_label)"
      ],
      "metadata": {
        "colab": {
          "base_uri": "https://localhost:8080/"
        },
        "id": "87Yn3szDCqL1",
        "outputId": "891aa1f4-97a2-4f0a-818f-5a2baa71e3e3"
      },
      "execution_count": 10,
      "outputs": [
        {
          "output_type": "stream",
          "name": "stdout",
          "text": [
            "1/1 [==============================] - 0s 98ms/step\n",
            "['sadness']\n"
          ]
        }
      ]
    },
    {
      "cell_type": "code",
      "source": [
        "input_text = \"im grabbing a minute to post i feel greedy wrong\"\n",
        "\n",
        "# Preprocess the input text\n",
        "input_sequence = tokenizer.texts_to_sequences([input_text])\n",
        "padded_input_sequence = pad_sequences(input_sequence, maxlen=max_length)\n",
        "prediction = model.predict(padded_input_sequence)\n",
        "predicted_label = label_encoder.inverse_transform([np.argmax(prediction[0])])\n",
        "print(predicted_label)"
      ],
      "metadata": {
        "colab": {
          "base_uri": "https://localhost:8080/"
        },
        "id": "Ouh9zoGaDE_z",
        "outputId": "1d43d73c-8814-4af6-d257-0fa929293885"
      },
      "execution_count": 11,
      "outputs": [
        {
          "output_type": "stream",
          "name": "stdout",
          "text": [
            "1/1 [==============================] - 0s 18ms/step\n",
            "['anger']\n"
          ]
        }
      ]
    },
    {
      "cell_type": "code",
      "source": [
        "input_text = \"i am ever feeling nostalgic about the fireplac...\"\n",
        "\n",
        "# Preprocess the input text\n",
        "input_sequence = tokenizer.texts_to_sequences([input_text])\n",
        "padded_input_sequence = pad_sequences(input_sequence, maxlen=max_length)\n",
        "prediction = model.predict(padded_input_sequence)\n",
        "predicted_label = label_encoder.inverse_transform([np.argmax(prediction[0])])\n",
        "print(predicted_label)"
      ],
      "metadata": {
        "colab": {
          "base_uri": "https://localhost:8080/"
        },
        "id": "LRHYZuHVEPTS",
        "outputId": "8cab259d-833f-41a6-a13d-ce0e60810ffe"
      },
      "execution_count": 12,
      "outputs": [
        {
          "output_type": "stream",
          "name": "stdout",
          "text": [
            "1/1 [==============================] - 0s 72ms/step\n",
            "['love']\n"
          ]
        }
      ]
    },
    {
      "cell_type": "code",
      "source": [],
      "metadata": {
        "id": "xEFGVsx3EbNO"
      },
      "execution_count": null,
      "outputs": []
    }
  ]
}